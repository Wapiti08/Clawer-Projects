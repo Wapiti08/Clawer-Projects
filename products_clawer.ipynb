{
 "cells": [
  {
   "cell_type": "code",
   "execution_count": 3,
   "metadata": {},
   "outputs": [],
   "source": [
    "import requests\n",
    "from requests.adapters import HTTPAdapter\n",
    "from requests.packages.urllib3.util.retry import Retry\n",
    "import json\n",
    "from bs4 import BeautifulSoup\n",
    "import requests\n",
    "import json\n",
    "import re\n",
    "import time\n",
    "import string\n",
    "import urllib\n",
    "from selenium import webdriver\n",
    "from lxml import etree\n",
    "from fake_useragent import UserAgent"
   ]
  },
  {
   "cell_type": "code",
   "execution_count": 4,
   "metadata": {},
   "outputs": [],
   "source": [
    "#camouflage\n",
    "ua = UserAgent()\n",
    "header = {'User-Agent':ua.random}\n"
   ]
  },
  {
   "cell_type": "code",
   "execution_count": 19,
   "metadata": {},
   "outputs": [],
   "source": [
    "\n",
    "def get_ip():\n",
    "    ip_list = []\n",
    "    #Route\n",
    "    url = 'https://www.xicidaili.com/nt/' #ip is time-effective, only crawling the first page\n",
    "    #request\n",
    "    response = requests.get(url=url,headers=header)\n",
    "    #Set encoding\n",
    "    response.encoding = response.apparent_encoding\n",
    "    response = response.text\n",
    "\n",
    "    response = etree.HTML(response)\n",
    "\n",
    "    tr_list = response.xpath('//tr[@class=\"odd\"]')\n",
    "    for i in tr_list:\n",
    "        #ip\n",
    "        ip = i.xpath('./td[2]/text()')[0]\n",
    "        #Port number\n",
    "        port = i.xpath('./td[3]/text()')[0]\n",
    "        #Agreement\n",
    "        agreement = i.xpath('./td[6]/text()')[0]\n",
    "        agreement = agreement.lower()\n",
    "        #Complete assembly path\n",
    "        ip = agreement + '://' + ip + ':' + port\n",
    "        ip_list.append(ip)\n",
    "    return ip_list\n"
   ]
  },
  {
   "cell_type": "code",
   "execution_count": 20,
   "metadata": {},
   "outputs": [
    {
     "name": "stdout",
     "output_type": "stream",
     "text": [
      "http://114.55.95.112:8999\n"
     ]
    }
   ],
   "source": [
    "ip_list = get_ip()\n",
    "print(ip_list[0])"
   ]
  },
  {
   "cell_type": "markdown",
   "metadata": {},
   "source": [
    "check whether the anti-clawer solution has worked"
   ]
  },
  {
   "cell_type": "code",
   "execution_count": 21,
   "metadata": {},
   "outputs": [
    {
     "name": "stdout",
     "output_type": "stream",
     "text": [
      "scrapy:  https://cosmily.com/micellar-and-cleansing-water\n"
     ]
    }
   ],
   "source": [
    "# define the url to scrapy\n",
    "url_main='https://cosmily.com/micellar-and-cleansing-water'\n",
    "\n",
    "for ip in ip_list:\n",
    "    print(\"scrapy: \", url_main)\n",
    "    # set the proxy\n",
    "    proxy = urllib.request.ProxyHandler({'https':ip})\n",
    "    # create an opener\n",
    "    # opener = urllib.request.build_opener(proxy, urllib.request.HTTPHandler)\n",
    "    opener = urllib.request.build_opener(proxy)\n",
    "    # set opener as global variable\n",
    "    urllib.request.install_opener(opener)\n",
    "    try:\n",
    "        response = requests.get(url_main, headers=header)\n",
    "        break\n",
    "    except:\n",
    "        time.sleep(1)\n",
    "        continue\n",
    "\n",
    "html = BeautifulSoup(response.text, 'html.parser')\n"
   ]
  },
  {
   "cell_type": "code",
   "execution_count": 25,
   "metadata": {},
   "outputs": [
    {
     "name": "stdout",
     "output_type": "stream",
     "text": [
      "Cleansers\n",
      "{'ingredient-icon': ['https://cosmily.com/images/icons/positive-effects/svg/antioxidant.svg', 'https://cosmily.com/images/icons/positive-effects/svg/moisturising.svg', 'https://cosmily.com/images/icons/positive-effects/svg/softening.svg', 'https://cosmily.com/images/icons/positive-effects/svg/acne-fighting.svg', 'https://cosmily.com/images/icons/positive-effects/svg/healing-effect.svg', 'https://cosmily.com/images/icons/positive-effects/svg/antiseptic.svg'], 'title': ['Antioxidant', 'Moisturising', 'Softening', 'Acne Fighting', 'Healing Effect', 'Antiseptic'], 'undertitle': ['Blocks free radicals', 'Hydrates the skin', 'Improves texture', 'Removes acne', 'Treats wounds', 'Kills bacteria'], 'style': ['1', '6', '3', '1', '1', '7']}\n",
      "Cleansers\n",
      "{'ingredient-icon': ['https://cosmily.com/images/icons/positive-effects/svg/antioxidant.svg', 'https://cosmily.com/images/icons/positive-effects/svg/moisturising.svg', 'https://cosmily.com/images/icons/positive-effects/svg/softening.svg', 'https://cosmily.com/images/icons/positive-effects/svg/acne-fighting.svg', 'https://cosmily.com/images/icons/positive-effects/svg/healing-effect.svg', 'https://cosmily.com/images/icons/positive-effects/svg/antiseptic.svg', 'https://cosmily.com/images/icons/positive-effects/svg/antioxidant.svg', 'https://cosmily.com/images/icons/positive-effects/svg/moisturising.svg', 'https://cosmily.com/images/icons/positive-effects/svg/softening.svg', 'https://cosmily.com/images/icons/positive-effects/svg/soothing.svg', 'https://cosmily.com/images/icons/positive-effects/svg/whitening.svg', 'https://cosmily.com/images/icons/positive-effects/svg/antiseptic.svg'], 'title': ['Antioxidant', 'Moisturising', 'Softening', 'Acne Fighting', 'Healing Effect', 'Antiseptic', 'Antioxidant', 'Moisturising', 'Softening', 'Soothing', 'Whitening', 'Antiseptic'], 'undertitle': ['Blocks free radicals', 'Hydrates the skin', 'Improves texture', 'Removes acne', 'Treats wounds', 'Kills bacteria', 'Blocks free radicals', 'Hydrates the skin', 'Improves texture', 'Reduces irritation', 'Removes dark spots', 'Kills bacteria'], 'style': ['1', '6', '3', '1', '1', '7', '1', '2', '1', '2', '1', '1']}\n",
      "Cleansers\n",
      "{'ingredient-icon': ['https://cosmily.com/images/icons/positive-effects/svg/antioxidant.svg', 'https://cosmily.com/images/icons/positive-effects/svg/moisturising.svg', 'https://cosmily.com/images/icons/positive-effects/svg/softening.svg', 'https://cosmily.com/images/icons/positive-effects/svg/acne-fighting.svg', 'https://cosmily.com/images/icons/positive-effects/svg/healing-effect.svg', 'https://cosmily.com/images/icons/positive-effects/svg/antiseptic.svg', 'https://cosmily.com/images/icons/positive-effects/svg/antioxidant.svg', 'https://cosmily.com/images/icons/positive-effects/svg/moisturising.svg', 'https://cosmily.com/images/icons/positive-effects/svg/softening.svg', 'https://cosmily.com/images/icons/positive-effects/svg/soothing.svg', 'https://cosmily.com/images/icons/positive-effects/svg/whitening.svg', 'https://cosmily.com/images/icons/positive-effects/svg/antiseptic.svg', 'https://cosmily.com/images/icons/positive-effects/svg/antioxidant.svg', 'https://cosmily.com/images/icons/positive-effects/svg/softening.svg', 'https://cosmily.com/images/icons/positive-effects/svg/antiseptic.svg'], 'title': ['Antioxidant', 'Moisturising', 'Softening', 'Acne Fighting', 'Healing Effect', 'Antiseptic', 'Antioxidant', 'Moisturising', 'Softening', 'Soothing', 'Whitening', 'Antiseptic', 'Antioxidant', 'Softening', 'Antiseptic'], 'undertitle': ['Blocks free radicals', 'Hydrates the skin', 'Improves texture', 'Removes acne', 'Treats wounds', 'Kills bacteria', 'Blocks free radicals', 'Hydrates the skin', 'Improves texture', 'Reduces irritation', 'Removes dark spots', 'Kills bacteria', 'Blocks free radicals', 'Improves texture', 'Kills bacteria'], 'style': ['1', '6', '3', '1', '1', '7', '1', '2', '1', '2', '1', '1', '1', '1', '1']}\n",
      "Cleansers\n",
      "{'ingredient-icon': ['https://cosmily.com/images/icons/positive-effects/svg/antioxidant.svg', 'https://cosmily.com/images/icons/positive-effects/svg/moisturising.svg', 'https://cosmily.com/images/icons/positive-effects/svg/softening.svg', 'https://cosmily.com/images/icons/positive-effects/svg/acne-fighting.svg', 'https://cosmily.com/images/icons/positive-effects/svg/healing-effect.svg', 'https://cosmily.com/images/icons/positive-effects/svg/antiseptic.svg', 'https://cosmily.com/images/icons/positive-effects/svg/antioxidant.svg', 'https://cosmily.com/images/icons/positive-effects/svg/moisturising.svg', 'https://cosmily.com/images/icons/positive-effects/svg/softening.svg', 'https://cosmily.com/images/icons/positive-effects/svg/soothing.svg', 'https://cosmily.com/images/icons/positive-effects/svg/whitening.svg', 'https://cosmily.com/images/icons/positive-effects/svg/antiseptic.svg', 'https://cosmily.com/images/icons/positive-effects/svg/antioxidant.svg', 'https://cosmily.com/images/icons/positive-effects/svg/softening.svg', 'https://cosmily.com/images/icons/positive-effects/svg/antiseptic.svg', 'https://cosmily.com/images/icons/positive-effects/svg/anti-aging.svg', 'https://cosmily.com/images/icons/positive-effects/svg/moisturising.svg', 'https://cosmily.com/images/icons/positive-effects/svg/softening.svg', 'https://cosmily.com/images/icons/positive-effects/svg/soothing.svg', 'https://cosmily.com/images/icons/positive-effects/svg/acne-fighting.svg', 'https://cosmily.com/images/icons/positive-effects/svg/healing-effect.svg', 'https://cosmily.com/images/icons/positive-effects/svg/whitening.svg', 'https://cosmily.com/images/icons/positive-effects/svg/antiseptic.svg'], 'title': ['Antioxidant', 'Moisturising', 'Softening', 'Acne Fighting', 'Healing Effect', 'Antiseptic', 'Antioxidant', 'Moisturising', 'Softening', 'Soothing', 'Whitening', 'Antiseptic', 'Antioxidant', 'Softening', 'Antiseptic', 'Anti-aging', 'Moisturising', 'Softening', 'Soothing', 'Acne Fighting', 'Healing Effect', 'Whitening', 'Antiseptic'], 'undertitle': ['Blocks free radicals', 'Hydrates the skin', 'Improves texture', 'Removes acne', 'Treats wounds', 'Kills bacteria', 'Blocks free radicals', 'Hydrates the skin', 'Improves texture', 'Reduces irritation', 'Removes dark spots', 'Kills bacteria', 'Blocks free radicals', 'Improves texture', 'Kills bacteria', 'Prevents aging', 'Hydrates the skin', 'Improves texture', 'Reduces irritation', 'Removes acne', 'Treats wounds', 'Removes dark spots', 'Kills bacteria'], 'style': ['1', '6', '3', '1', '1', '7', '1', '2', '1', '2', '1', '1', '1', '1', '1', '2', '4', '2', '1', '1', '1', '1', '2']}\n",
      "Cleansers\n",
      "{'ingredient-icon': ['https://cosmily.com/images/icons/positive-effects/svg/antioxidant.svg', 'https://cosmily.com/images/icons/positive-effects/svg/moisturising.svg', 'https://cosmily.com/images/icons/positive-effects/svg/softening.svg', 'https://cosmily.com/images/icons/positive-effects/svg/acne-fighting.svg', 'https://cosmily.com/images/icons/positive-effects/svg/healing-effect.svg', 'https://cosmily.com/images/icons/positive-effects/svg/antiseptic.svg', 'https://cosmily.com/images/icons/positive-effects/svg/antioxidant.svg', 'https://cosmily.com/images/icons/positive-effects/svg/moisturising.svg', 'https://cosmily.com/images/icons/positive-effects/svg/softening.svg', 'https://cosmily.com/images/icons/positive-effects/svg/soothing.svg', 'https://cosmily.com/images/icons/positive-effects/svg/whitening.svg', 'https://cosmily.com/images/icons/positive-effects/svg/antiseptic.svg', 'https://cosmily.com/images/icons/positive-effects/svg/antioxidant.svg', 'https://cosmily.com/images/icons/positive-effects/svg/softening.svg', 'https://cosmily.com/images/icons/positive-effects/svg/antiseptic.svg', 'https://cosmily.com/images/icons/positive-effects/svg/anti-aging.svg', 'https://cosmily.com/images/icons/positive-effects/svg/moisturising.svg', 'https://cosmily.com/images/icons/positive-effects/svg/softening.svg', 'https://cosmily.com/images/icons/positive-effects/svg/soothing.svg', 'https://cosmily.com/images/icons/positive-effects/svg/acne-fighting.svg', 'https://cosmily.com/images/icons/positive-effects/svg/healing-effect.svg', 'https://cosmily.com/images/icons/positive-effects/svg/whitening.svg', 'https://cosmily.com/images/icons/positive-effects/svg/antiseptic.svg', 'https://cosmily.com/images/icons/positive-effects/svg/anti-aging.svg', 'https://cosmily.com/images/icons/positive-effects/svg/moisturising.svg', 'https://cosmily.com/images/icons/positive-effects/svg/softening.svg', 'https://cosmily.com/images/icons/positive-effects/svg/whitening.svg', 'https://cosmily.com/images/icons/positive-effects/svg/antiseptic.svg', 'https://cosmily.com/images/icons/positive-effects/svg/uv-protection.svg'], 'title': ['Antioxidant', 'Moisturising', 'Softening', 'Acne Fighting', 'Healing Effect', 'Antiseptic', 'Antioxidant', 'Moisturising', 'Softening', 'Soothing', 'Whitening', 'Antiseptic', 'Antioxidant', 'Softening', 'Antiseptic', 'Anti-aging', 'Moisturising', 'Softening', 'Soothing', 'Acne Fighting', 'Healing Effect', 'Whitening', 'Antiseptic', 'Anti-aging', 'Moisturising', 'Softening', 'Whitening', 'Antiseptic', 'UV Protection'], 'undertitle': ['Blocks free radicals', 'Hydrates the skin', 'Improves texture', 'Removes acne', 'Treats wounds', 'Kills bacteria', 'Blocks free radicals', 'Hydrates the skin', 'Improves texture', 'Reduces irritation', 'Removes dark spots', 'Kills bacteria', 'Blocks free radicals', 'Improves texture', 'Kills bacteria', 'Prevents aging', 'Hydrates the skin', 'Improves texture', 'Reduces irritation', 'Removes acne', 'Treats wounds', 'Removes dark spots', 'Kills bacteria', 'Prevents aging', 'Hydrates the skin', 'Improves texture', 'Removes dark spots', 'Kills bacteria', 'Blocks sun'], 'style': ['1', '6', '3', '1', '1', '7', '1', '2', '1', '2', '1', '1', '1', '1', '1', '2', '4', '2', '1', '1', '1', '1', '2', '1', '2', '2', '1', '1', '1']}\n"
     ]
    },
    {
     "name": "stdout",
     "output_type": "stream",
     "text": [
      "Cleansers\n",
      "{'ingredient-icon': ['https://cosmily.com/images/icons/positive-effects/svg/antioxidant.svg', 'https://cosmily.com/images/icons/positive-effects/svg/moisturising.svg', 'https://cosmily.com/images/icons/positive-effects/svg/softening.svg', 'https://cosmily.com/images/icons/positive-effects/svg/acne-fighting.svg', 'https://cosmily.com/images/icons/positive-effects/svg/healing-effect.svg', 'https://cosmily.com/images/icons/positive-effects/svg/antiseptic.svg', 'https://cosmily.com/images/icons/positive-effects/svg/antioxidant.svg', 'https://cosmily.com/images/icons/positive-effects/svg/moisturising.svg', 'https://cosmily.com/images/icons/positive-effects/svg/softening.svg', 'https://cosmily.com/images/icons/positive-effects/svg/soothing.svg', 'https://cosmily.com/images/icons/positive-effects/svg/whitening.svg', 'https://cosmily.com/images/icons/positive-effects/svg/antiseptic.svg', 'https://cosmily.com/images/icons/positive-effects/svg/antioxidant.svg', 'https://cosmily.com/images/icons/positive-effects/svg/softening.svg', 'https://cosmily.com/images/icons/positive-effects/svg/antiseptic.svg', 'https://cosmily.com/images/icons/positive-effects/svg/anti-aging.svg', 'https://cosmily.com/images/icons/positive-effects/svg/moisturising.svg', 'https://cosmily.com/images/icons/positive-effects/svg/softening.svg', 'https://cosmily.com/images/icons/positive-effects/svg/soothing.svg', 'https://cosmily.com/images/icons/positive-effects/svg/acne-fighting.svg', 'https://cosmily.com/images/icons/positive-effects/svg/healing-effect.svg', 'https://cosmily.com/images/icons/positive-effects/svg/whitening.svg', 'https://cosmily.com/images/icons/positive-effects/svg/antiseptic.svg', 'https://cosmily.com/images/icons/positive-effects/svg/anti-aging.svg', 'https://cosmily.com/images/icons/positive-effects/svg/moisturising.svg', 'https://cosmily.com/images/icons/positive-effects/svg/softening.svg', 'https://cosmily.com/images/icons/positive-effects/svg/whitening.svg', 'https://cosmily.com/images/icons/positive-effects/svg/antiseptic.svg', 'https://cosmily.com/images/icons/positive-effects/svg/uv-protection.svg', 'https://cosmily.com/images/icons/positive-effects/svg/anti-aging.svg', 'https://cosmily.com/images/icons/positive-effects/svg/moisturising.svg', 'https://cosmily.com/images/icons/positive-effects/svg/whitening.svg', 'https://cosmily.com/images/icons/positive-effects/svg/antiseptic.svg'], 'title': ['Antioxidant', 'Moisturising', 'Softening', 'Acne Fighting', 'Healing Effect', 'Antiseptic', 'Antioxidant', 'Moisturising', 'Softening', 'Soothing', 'Whitening', 'Antiseptic', 'Antioxidant', 'Softening', 'Antiseptic', 'Anti-aging', 'Moisturising', 'Softening', 'Soothing', 'Acne Fighting', 'Healing Effect', 'Whitening', 'Antiseptic', 'Anti-aging', 'Moisturising', 'Softening', 'Whitening', 'Antiseptic', 'UV Protection', 'Anti-aging', 'Moisturising', 'Whitening', 'Antiseptic'], 'undertitle': ['Blocks free radicals', 'Hydrates the skin', 'Improves texture', 'Removes acne', 'Treats wounds', 'Kills bacteria', 'Blocks free radicals', 'Hydrates the skin', 'Improves texture', 'Reduces irritation', 'Removes dark spots', 'Kills bacteria', 'Blocks free radicals', 'Improves texture', 'Kills bacteria', 'Prevents aging', 'Hydrates the skin', 'Improves texture', 'Reduces irritation', 'Removes acne', 'Treats wounds', 'Removes dark spots', 'Kills bacteria', 'Prevents aging', 'Hydrates the skin', 'Improves texture', 'Removes dark spots', 'Kills bacteria', 'Blocks sun', 'Prevents aging', 'Hydrates the skin', 'Removes dark spots', 'Kills bacteria'], 'style': ['1', '6', '3', '1', '1', '7', '1', '2', '1', '2', '1', '1', '1', '1', '1', '2', '4', '2', '1', '1', '1', '1', '2', '1', '2', '2', '1', '1', '1', '1', '3', '1', '1']}\n",
      "Cleansers\n",
      "{'ingredient-icon': ['https://cosmily.com/images/icons/positive-effects/svg/antioxidant.svg', 'https://cosmily.com/images/icons/positive-effects/svg/moisturising.svg', 'https://cosmily.com/images/icons/positive-effects/svg/softening.svg', 'https://cosmily.com/images/icons/positive-effects/svg/acne-fighting.svg', 'https://cosmily.com/images/icons/positive-effects/svg/healing-effect.svg', 'https://cosmily.com/images/icons/positive-effects/svg/antiseptic.svg', 'https://cosmily.com/images/icons/positive-effects/svg/antioxidant.svg', 'https://cosmily.com/images/icons/positive-effects/svg/moisturising.svg', 'https://cosmily.com/images/icons/positive-effects/svg/softening.svg', 'https://cosmily.com/images/icons/positive-effects/svg/soothing.svg', 'https://cosmily.com/images/icons/positive-effects/svg/whitening.svg', 'https://cosmily.com/images/icons/positive-effects/svg/antiseptic.svg', 'https://cosmily.com/images/icons/positive-effects/svg/antioxidant.svg', 'https://cosmily.com/images/icons/positive-effects/svg/softening.svg', 'https://cosmily.com/images/icons/positive-effects/svg/antiseptic.svg', 'https://cosmily.com/images/icons/positive-effects/svg/anti-aging.svg', 'https://cosmily.com/images/icons/positive-effects/svg/moisturising.svg', 'https://cosmily.com/images/icons/positive-effects/svg/softening.svg', 'https://cosmily.com/images/icons/positive-effects/svg/soothing.svg', 'https://cosmily.com/images/icons/positive-effects/svg/acne-fighting.svg', 'https://cosmily.com/images/icons/positive-effects/svg/healing-effect.svg', 'https://cosmily.com/images/icons/positive-effects/svg/whitening.svg', 'https://cosmily.com/images/icons/positive-effects/svg/antiseptic.svg', 'https://cosmily.com/images/icons/positive-effects/svg/anti-aging.svg', 'https://cosmily.com/images/icons/positive-effects/svg/moisturising.svg', 'https://cosmily.com/images/icons/positive-effects/svg/softening.svg', 'https://cosmily.com/images/icons/positive-effects/svg/whitening.svg', 'https://cosmily.com/images/icons/positive-effects/svg/antiseptic.svg', 'https://cosmily.com/images/icons/positive-effects/svg/uv-protection.svg', 'https://cosmily.com/images/icons/positive-effects/svg/anti-aging.svg', 'https://cosmily.com/images/icons/positive-effects/svg/moisturising.svg', 'https://cosmily.com/images/icons/positive-effects/svg/whitening.svg', 'https://cosmily.com/images/icons/positive-effects/svg/antiseptic.svg'], 'title': ['Antioxidant', 'Moisturising', 'Softening', 'Acne Fighting', 'Healing Effect', 'Antiseptic', 'Antioxidant', 'Moisturising', 'Softening', 'Soothing', 'Whitening', 'Antiseptic', 'Antioxidant', 'Softening', 'Antiseptic', 'Anti-aging', 'Moisturising', 'Softening', 'Soothing', 'Acne Fighting', 'Healing Effect', 'Whitening', 'Antiseptic', 'Anti-aging', 'Moisturising', 'Softening', 'Whitening', 'Antiseptic', 'UV Protection', 'Anti-aging', 'Moisturising', 'Whitening', 'Antiseptic'], 'undertitle': ['Blocks free radicals', 'Hydrates the skin', 'Improves texture', 'Removes acne', 'Treats wounds', 'Kills bacteria', 'Blocks free radicals', 'Hydrates the skin', 'Improves texture', 'Reduces irritation', 'Removes dark spots', 'Kills bacteria', 'Blocks free radicals', 'Improves texture', 'Kills bacteria', 'Prevents aging', 'Hydrates the skin', 'Improves texture', 'Reduces irritation', 'Removes acne', 'Treats wounds', 'Removes dark spots', 'Kills bacteria', 'Prevents aging', 'Hydrates the skin', 'Improves texture', 'Removes dark spots', 'Kills bacteria', 'Blocks sun', 'Prevents aging', 'Hydrates the skin', 'Removes dark spots', 'Kills bacteria'], 'style': ['1', '6', '3', '1', '1', '7', '1', '2', '1', '2', '1', '1', '1', '1', '1', '2', '4', '2', '1', '1', '1', '1', '2', '1', '2', '2', '1', '1', '1', '1', '3', '1', '1']}\n",
      "Cleansers\n",
      "Message: Unable to locate element: .//a/img\n",
      "\n"
     ]
    },
    {
     "ename": "NoSuchElementException",
     "evalue": "Message: Unable to locate element: .//a/img\n",
     "output_type": "error",
     "traceback": [
      "\u001b[1;31m---------------------------------------------------------------------------\u001b[0m",
      "\u001b[1;31mNoSuchElementException\u001b[0m                    Traceback (most recent call last)",
      "\u001b[1;32m<ipython-input-25-d39e52730b61>\u001b[0m in \u001b[0;36m<module>\u001b[1;34m\u001b[0m\n\u001b[0;32m     47\u001b[0m         \u001b[1;31m# grap product_images\u001b[0m\u001b[1;33m\u001b[0m\u001b[1;33m\u001b[0m\u001b[1;33m\u001b[0m\u001b[0m\n\u001b[0;32m     48\u001b[0m         \u001b[0mimages_parent\u001b[0m \u001b[1;33m=\u001b[0m \u001b[0mdriver\u001b[0m\u001b[1;33m.\u001b[0m\u001b[0mfind_element_by_xpath\u001b[0m\u001b[1;33m(\u001b[0m\u001b[1;34m\"//div[@class='product-image']\"\u001b[0m\u001b[1;33m)\u001b[0m\u001b[1;33m\u001b[0m\u001b[1;33m\u001b[0m\u001b[0m\n\u001b[1;32m---> 49\u001b[1;33m         \u001b[0mothers_json\u001b[0m\u001b[1;33m[\u001b[0m\u001b[1;34m'product_images'\u001b[0m\u001b[1;33m]\u001b[0m \u001b[1;33m=\u001b[0m \u001b[0mimages_parent\u001b[0m\u001b[1;33m.\u001b[0m\u001b[0mfind_element_by_xpath\u001b[0m\u001b[1;33m(\u001b[0m\u001b[1;34m\".//a/img\"\u001b[0m\u001b[1;33m)\u001b[0m\u001b[1;33m.\u001b[0m\u001b[0mget_attribute\u001b[0m\u001b[1;33m(\u001b[0m\u001b[1;34m\"src\"\u001b[0m\u001b[1;33m)\u001b[0m\u001b[1;33m\u001b[0m\u001b[1;33m\u001b[0m\u001b[0m\n\u001b[0m\u001b[0;32m     50\u001b[0m \u001b[1;33m\u001b[0m\u001b[0m\n\u001b[0;32m     51\u001b[0m         \u001b[1;31m# grap product_name\u001b[0m\u001b[1;33m\u001b[0m\u001b[1;33m\u001b[0m\u001b[1;33m\u001b[0m\u001b[0m\n",
      "\u001b[1;32m~\\AppData\\Local\\Programs\\Python\\Python38\\lib\\site-packages\\selenium\\webdriver\\remote\\webelement.py\u001b[0m in \u001b[0;36mfind_element_by_xpath\u001b[1;34m(self, xpath)\u001b[0m\n\u001b[0;32m    349\u001b[0m             \u001b[0melement\u001b[0m \u001b[1;33m=\u001b[0m \u001b[0melement\u001b[0m\u001b[1;33m.\u001b[0m\u001b[0mfind_element_by_xpath\u001b[0m\u001b[1;33m(\u001b[0m\u001b[1;34m'//div/td[1]'\u001b[0m\u001b[1;33m)\u001b[0m\u001b[1;33m\u001b[0m\u001b[1;33m\u001b[0m\u001b[0m\n\u001b[0;32m    350\u001b[0m         \"\"\"\n\u001b[1;32m--> 351\u001b[1;33m         \u001b[1;32mreturn\u001b[0m \u001b[0mself\u001b[0m\u001b[1;33m.\u001b[0m\u001b[0mfind_element\u001b[0m\u001b[1;33m(\u001b[0m\u001b[0mby\u001b[0m\u001b[1;33m=\u001b[0m\u001b[0mBy\u001b[0m\u001b[1;33m.\u001b[0m\u001b[0mXPATH\u001b[0m\u001b[1;33m,\u001b[0m \u001b[0mvalue\u001b[0m\u001b[1;33m=\u001b[0m\u001b[0mxpath\u001b[0m\u001b[1;33m)\u001b[0m\u001b[1;33m\u001b[0m\u001b[1;33m\u001b[0m\u001b[0m\n\u001b[0m\u001b[0;32m    352\u001b[0m \u001b[1;33m\u001b[0m\u001b[0m\n\u001b[0;32m    353\u001b[0m     \u001b[1;32mdef\u001b[0m \u001b[0mfind_elements_by_xpath\u001b[0m\u001b[1;33m(\u001b[0m\u001b[0mself\u001b[0m\u001b[1;33m,\u001b[0m \u001b[0mxpath\u001b[0m\u001b[1;33m)\u001b[0m\u001b[1;33m:\u001b[0m\u001b[1;33m\u001b[0m\u001b[1;33m\u001b[0m\u001b[0m\n",
      "\u001b[1;32m~\\AppData\\Local\\Programs\\Python\\Python38\\lib\\site-packages\\selenium\\webdriver\\remote\\webelement.py\u001b[0m in \u001b[0;36mfind_element\u001b[1;34m(self, by, value)\u001b[0m\n\u001b[0;32m    656\u001b[0m                 \u001b[0mvalue\u001b[0m \u001b[1;33m=\u001b[0m \u001b[1;34m'[name=\"%s\"]'\u001b[0m \u001b[1;33m%\u001b[0m \u001b[0mvalue\u001b[0m\u001b[1;33m\u001b[0m\u001b[1;33m\u001b[0m\u001b[0m\n\u001b[0;32m    657\u001b[0m \u001b[1;33m\u001b[0m\u001b[0m\n\u001b[1;32m--> 658\u001b[1;33m         return self._execute(Command.FIND_CHILD_ELEMENT,\n\u001b[0m\u001b[0;32m    659\u001b[0m                              {\"using\": by, \"value\": value})['value']\n\u001b[0;32m    660\u001b[0m \u001b[1;33m\u001b[0m\u001b[0m\n",
      "\u001b[1;32m~\\AppData\\Local\\Programs\\Python\\Python38\\lib\\site-packages\\selenium\\webdriver\\remote\\webelement.py\u001b[0m in \u001b[0;36m_execute\u001b[1;34m(self, command, params)\u001b[0m\n\u001b[0;32m    631\u001b[0m             \u001b[0mparams\u001b[0m \u001b[1;33m=\u001b[0m \u001b[1;33m{\u001b[0m\u001b[1;33m}\u001b[0m\u001b[1;33m\u001b[0m\u001b[1;33m\u001b[0m\u001b[0m\n\u001b[0;32m    632\u001b[0m         \u001b[0mparams\u001b[0m\u001b[1;33m[\u001b[0m\u001b[1;34m'id'\u001b[0m\u001b[1;33m]\u001b[0m \u001b[1;33m=\u001b[0m \u001b[0mself\u001b[0m\u001b[1;33m.\u001b[0m\u001b[0m_id\u001b[0m\u001b[1;33m\u001b[0m\u001b[1;33m\u001b[0m\u001b[0m\n\u001b[1;32m--> 633\u001b[1;33m         \u001b[1;32mreturn\u001b[0m \u001b[0mself\u001b[0m\u001b[1;33m.\u001b[0m\u001b[0m_parent\u001b[0m\u001b[1;33m.\u001b[0m\u001b[0mexecute\u001b[0m\u001b[1;33m(\u001b[0m\u001b[0mcommand\u001b[0m\u001b[1;33m,\u001b[0m \u001b[0mparams\u001b[0m\u001b[1;33m)\u001b[0m\u001b[1;33m\u001b[0m\u001b[1;33m\u001b[0m\u001b[0m\n\u001b[0m\u001b[0;32m    634\u001b[0m \u001b[1;33m\u001b[0m\u001b[0m\n\u001b[0;32m    635\u001b[0m     \u001b[1;32mdef\u001b[0m \u001b[0mfind_element\u001b[0m\u001b[1;33m(\u001b[0m\u001b[0mself\u001b[0m\u001b[1;33m,\u001b[0m \u001b[0mby\u001b[0m\u001b[1;33m=\u001b[0m\u001b[0mBy\u001b[0m\u001b[1;33m.\u001b[0m\u001b[0mID\u001b[0m\u001b[1;33m,\u001b[0m \u001b[0mvalue\u001b[0m\u001b[1;33m=\u001b[0m\u001b[1;32mNone\u001b[0m\u001b[1;33m)\u001b[0m\u001b[1;33m:\u001b[0m\u001b[1;33m\u001b[0m\u001b[1;33m\u001b[0m\u001b[0m\n",
      "\u001b[1;32m~\\AppData\\Local\\Programs\\Python\\Python38\\lib\\site-packages\\selenium\\webdriver\\remote\\webdriver.py\u001b[0m in \u001b[0;36mexecute\u001b[1;34m(self, driver_command, params)\u001b[0m\n\u001b[0;32m    319\u001b[0m         \u001b[0mresponse\u001b[0m \u001b[1;33m=\u001b[0m \u001b[0mself\u001b[0m\u001b[1;33m.\u001b[0m\u001b[0mcommand_executor\u001b[0m\u001b[1;33m.\u001b[0m\u001b[0mexecute\u001b[0m\u001b[1;33m(\u001b[0m\u001b[0mdriver_command\u001b[0m\u001b[1;33m,\u001b[0m \u001b[0mparams\u001b[0m\u001b[1;33m)\u001b[0m\u001b[1;33m\u001b[0m\u001b[1;33m\u001b[0m\u001b[0m\n\u001b[0;32m    320\u001b[0m         \u001b[1;32mif\u001b[0m \u001b[0mresponse\u001b[0m\u001b[1;33m:\u001b[0m\u001b[1;33m\u001b[0m\u001b[1;33m\u001b[0m\u001b[0m\n\u001b[1;32m--> 321\u001b[1;33m             \u001b[0mself\u001b[0m\u001b[1;33m.\u001b[0m\u001b[0merror_handler\u001b[0m\u001b[1;33m.\u001b[0m\u001b[0mcheck_response\u001b[0m\u001b[1;33m(\u001b[0m\u001b[0mresponse\u001b[0m\u001b[1;33m)\u001b[0m\u001b[1;33m\u001b[0m\u001b[1;33m\u001b[0m\u001b[0m\n\u001b[0m\u001b[0;32m    322\u001b[0m             response['value'] = self._unwrap_value(\n\u001b[0;32m    323\u001b[0m                 response.get('value', None))\n",
      "\u001b[1;32m~\\AppData\\Local\\Programs\\Python\\Python38\\lib\\site-packages\\selenium\\webdriver\\remote\\errorhandler.py\u001b[0m in \u001b[0;36mcheck_response\u001b[1;34m(self, response)\u001b[0m\n\u001b[0;32m    240\u001b[0m                 \u001b[0malert_text\u001b[0m \u001b[1;33m=\u001b[0m \u001b[0mvalue\u001b[0m\u001b[1;33m[\u001b[0m\u001b[1;34m'alert'\u001b[0m\u001b[1;33m]\u001b[0m\u001b[1;33m.\u001b[0m\u001b[0mget\u001b[0m\u001b[1;33m(\u001b[0m\u001b[1;34m'text'\u001b[0m\u001b[1;33m)\u001b[0m\u001b[1;33m\u001b[0m\u001b[1;33m\u001b[0m\u001b[0m\n\u001b[0;32m    241\u001b[0m             \u001b[1;32mraise\u001b[0m \u001b[0mexception_class\u001b[0m\u001b[1;33m(\u001b[0m\u001b[0mmessage\u001b[0m\u001b[1;33m,\u001b[0m \u001b[0mscreen\u001b[0m\u001b[1;33m,\u001b[0m \u001b[0mstacktrace\u001b[0m\u001b[1;33m,\u001b[0m \u001b[0malert_text\u001b[0m\u001b[1;33m)\u001b[0m\u001b[1;33m\u001b[0m\u001b[1;33m\u001b[0m\u001b[0m\n\u001b[1;32m--> 242\u001b[1;33m         \u001b[1;32mraise\u001b[0m \u001b[0mexception_class\u001b[0m\u001b[1;33m(\u001b[0m\u001b[0mmessage\u001b[0m\u001b[1;33m,\u001b[0m \u001b[0mscreen\u001b[0m\u001b[1;33m,\u001b[0m \u001b[0mstacktrace\u001b[0m\u001b[1;33m)\u001b[0m\u001b[1;33m\u001b[0m\u001b[1;33m\u001b[0m\u001b[0m\n\u001b[0m\u001b[0;32m    243\u001b[0m \u001b[1;33m\u001b[0m\u001b[0m\n\u001b[0;32m    244\u001b[0m     \u001b[1;32mdef\u001b[0m \u001b[0m_value_or_default\u001b[0m\u001b[1;33m(\u001b[0m\u001b[0mself\u001b[0m\u001b[1;33m,\u001b[0m \u001b[0mobj\u001b[0m\u001b[1;33m,\u001b[0m \u001b[0mkey\u001b[0m\u001b[1;33m,\u001b[0m \u001b[0mdefault\u001b[0m\u001b[1;33m)\u001b[0m\u001b[1;33m:\u001b[0m\u001b[1;33m\u001b[0m\u001b[1;33m\u001b[0m\u001b[0m\n",
      "\u001b[1;31mNoSuchElementException\u001b[0m: Message: Unable to locate element: .//a/img\n"
     ]
    }
   ],
   "source": [
    "driver = webdriver.Firefox(executable_path=r'D:\\Part-Time\\geckodriver-v0.26.0-win64\\geckodriver.exe')\n",
    "driver.get(url_main)\n",
    "\n",
    "# define the three json parts to save the information\n",
    "others_json = {}\n",
    "harmfulness_json = {}\n",
    "beneficial_json = {}\n",
    "\n",
    "# report_json = {}\n",
    "# component_json = {}\n",
    "# component_ratio_json = {}\n",
    "# component_json = {}\n",
    "\n",
    "# define the list to save all product\n",
    "products_inf=[]\n",
    "harmfulness_title = []\n",
    "harmfulness_ingredient_icon = []\n",
    "harmfulness_undertitle = []\n",
    "harmfulness_style = []\n",
    "beneficial_ingredient_icon = [] \n",
    "beneficial_title = []\n",
    "beneficial_undertitle = [] \n",
    "beneficial_style = []\n",
    "\n",
    "# define the list to save products urls\n",
    "search = []\n",
    "# find the hrefs for products in main page\n",
    "products_list = driver.find_elements_by_xpath(\"//a[starts-with(@class, 'mb-2') and contains(@class, 'product-filter-title')]\")\n",
    "# save all the products hrefs at one page\n",
    "for product in products_list:\n",
    "    search.append(product.get_attribute(\"href\"))\n",
    "# build a blank json file\n",
    "with open('products.txt', 'w') as outfile:\n",
    "    json.dump([], outfile)\n",
    "\n",
    "# go through the products hrefs to grasp the information   \n",
    "for url in search:\n",
    "    driver.get(url)\n",
    "    try:\n",
    "        # grap title data\n",
    "        category_names = driver.find_elements_by_xpath(\"//span[@itemprop='name']\")\n",
    "        others_json['category_first_name'] = category_names[2].text\n",
    "        others_json['category_second_name'] = category_names[3].text\n",
    "        # print(category_names[3].text)\n",
    "        others_json['category_third_name'] = category_names[-1].text\n",
    "\n",
    "        # grap product_images\n",
    "        images_parent = driver.find_element_by_xpath(\"//div[@class='product-image']\")\n",
    "        others_json['product_images'] = images_parent.find_element_by_xpath(\".//a/img\").get_attribute(\"src\")    \n",
    "\n",
    "        # grap product_name\n",
    "        product_name = driver.find_element_by_xpath(\"//h1[starts-with(@class, 'mt-0') and contains(@class, 'mb-2')]\").text\n",
    "        others_json['product_name'] = product_name\n",
    "        \n",
    "        try:\n",
    "            # grap country_name \n",
    "            others_json['country_name'] = driver.find_element_by_xpath(\"//img[@class='ml-1']\").get_attribute(\"data-original-title\")\n",
    "\n",
    "            # grap brand_name\n",
    "            brand_name = driver.find_element_by_xpath(\"//div[@class='mb-2']\")\n",
    "            others_json['brand_name'] = brand_name.find_element_by_xpath(\".//a\").text\n",
    "        except:\n",
    "            others_json['country_name'] = []\n",
    "            others_json['brand_name'] = []\n",
    "            pass\n",
    "        # grap description\n",
    "        others_json['description'] = driver.find_element_by_xpath(\"//p[starts-with(@class,'mb-4') and contains(@class, 'px-3')]\").text   \n",
    "\n",
    "\n",
    "        # grap harmfulness_json\n",
    "        two_categories = driver.find_elements_by_xpath(\"//div[@class = 'px-3']\") \n",
    "\n",
    "        harmfulnesses = two_categories[0].find_elements_by_xpath(\".//div[starts-with(@class, 'col-') and contains(@class, 'ingredient-analysis')]\")\n",
    "        \n",
    "        for i in range(len(harmfulnesses)):\n",
    "            harmfulness_ingredient_icon.append(harmfulnesses[i].find_element_by_xpath(\".//div/div/div/img[@class='ingredient-icon']\").get_attribute(\"src\"))\n",
    "            harmfulness_title.append(harmfulnesses[i].find_element_by_xpath(\".//div/div/div/img[@class='ingredient-icon']\").get_attribute(\"alt\")) \n",
    "            harmfulness_undertitle.append(harmfulnesses[i].find_element_by_xpath(\".//div/div/div/div/span[@class='undertitle']\").text)\n",
    "            harmfulness_style.append(harmfulnesses[i].find_element_by_xpath(\".//div/div[starts-with(@class, 'col-2')]/b\").text)\n",
    "            # harmfulness_json[\"down\"]\n",
    "        harmfulness_json['ingredient-icon'] = harmfulness_title\n",
    "        harmfulness_json['title'] = harmfulness_title\n",
    "        harmfulness_json['undertitle'] = harmfulness_undertitle\n",
    "        harmfulness_json['style'] = harmfulness_style\n",
    "        # grap beneficial_json\n",
    "        beneficial = two_categories[1].find_elements_by_xpath(\".//div[starts-with(@class, 'col-') and contains(@class, 'ingredient-analysis')]\")\n",
    "        \n",
    "        for i in range(len(beneficial)):\n",
    "            beneficial_ingredient_icon.append(beneficial[i].find_element_by_xpath(\".//div/div/div/img[@class='ingredient-icon']\").get_attribute(\"src\"))\n",
    "            beneficial_title.append(beneficial[i].find_element_by_xpath(\".//div/div/div/img[@class='ingredient-icon']\").get_attribute(\"alt\")) \n",
    "            beneficial_undertitle.append(beneficial[i].find_element_by_xpath(\".//div/div/div/div/span[@class='undertitle']\").text)\n",
    "            beneficial_style.append(beneficial[i].find_element_by_xpath(\".//div/div[starts-with(@class, 'col-2')]/b\").text)\n",
    "            # harmfulness_json[\"down\"]\n",
    "        beneficial_json[\"ingredient-icon\"] = beneficial_ingredient_icon\n",
    "        beneficial_json[\"title\"] = beneficial_title\n",
    "        beneficial_json[\"undertitle\"] = beneficial_undertitle\n",
    "        beneficial_json[\"style\"] = beneficial_style\n",
    "        # save all the information for one product\n",
    "        # print(beneficial_json)\n",
    "    except Exception as e:\n",
    "        print(e)\n",
    "        raise\n",
    "        \n",
    "    products_inf.append(others_json)\n",
    "    products_inf.append(harmfulness_json)\n",
    "    products_inf.append(beneficial_json)\n",
    "# save the result to products.txt\n",
    "with open('products.txt', mode='w', encoding='utf-8') as feedsjson:\n",
    "    json.dump(products_inf, feedsjson)\n"
   ]
  },
  {
   "cell_type": "code",
   "execution_count": null,
   "metadata": {},
   "outputs": [],
   "source": []
  }
 ],
 "metadata": {
  "kernelspec": {
   "display_name": "Python 3.8.1 64-bit",
   "language": "python",
   "name": "python38164bitdbd76ed984a5488496eb976b9e8b3b8e"
  }
 },
 "nbformat": 4,
 "nbformat_minor": 4
}
